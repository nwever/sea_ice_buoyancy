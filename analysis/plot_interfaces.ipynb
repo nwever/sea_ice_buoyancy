{
 "cells": [
  {
   "cell_type": "code",
   "execution_count": null,
   "id": "752f83cc-79de-42d4-ab07-042d7994635e",
   "metadata": {},
   "outputs": [],
   "source": [
    "import pandas as pd\n",
    "import numpy as np\n",
    "import matplotlib.pyplot as plt\n",
    "import matplotlib.dates as mdates\n",
    "from datetime import datetime"
   ]
  },
  {
   "cell_type": "code",
   "execution_count": null,
   "id": "52552c62-4fae-4b74-ac44-46798104a60a",
   "metadata": {},
   "outputs": [],
   "source": [
    "# Load data\n",
    "filename = './506.txt'\n",
    "df = pd.read_csv(filename, sep=r'\\s+', engine='python', header=None)\n",
    "df.columns = [f'col{i}' for i in range(1, 43)]\n",
    "df.replace(-9999, np.nan, inplace=True)\n",
    "\n",
    "df['date'] = pd.to_datetime(df['col2'])\n",
    "\n",
    "# Plotting variables\n",
    "x = df['date']\n",
    "snow_top = df['col3']\n",
    "snow_base = df['col7']\n",
    "flooded_top = df['col15']\n",
    "flooded_base = df['col11']\n",
    "ice_base = df['col20']"
   ]
  },
  {
   "cell_type": "code",
   "execution_count": null,
   "id": "0b0dfce3-57c5-488d-8730-db9ee94926b5",
   "metadata": {},
   "outputs": [],
   "source": [
    "# Create plot\n",
    "fig, ax = plt.subplots(figsize=(10, 6))\n",
    "\n",
    "# Fill areas\n",
    "ax.fill_between(x, snow_top, snow_base, label='Snow', color='#c0c0c0')\n",
    "ax.fill_between(x, snow_base, ice_base, label='Ice', color='#00ffff')\n",
    "ax.fill_between(x, flooded_top, flooded_base, label='Flooded', color='#76afde')\n",
    "\n",
    "# Axis formatting\n",
    "ax.set_ylabel('Depth (m)')\n",
    "ax.set_xlim(x.iloc[0], x.iloc[-1])\n",
    "#ax.set_ylim-1.4, 1)  # or -2:2 for other IDs\n",
    "ax.set_xticks(pd.date_range(start=x.iloc[0], end=x.iloc[-1], freq='MS'))\n",
    "ax.xaxis.set_major_formatter(mdates.DateFormatter('%b\\n%Y'))\n",
    "ax.tick_params(axis='x', rotation=0)\n",
    "ax.tick_params(axis='both', direction='out')\n",
    "\n",
    "# Labels\n",
    "ax.text(0.01, 0.95, '(a)', transform=ax.transAxes, fontsize=12)\n",
    "ax.text(0.98, 0.95, 'One-dimensional (SNOWPACK), enforcing hydrostatic balance',\n",
    "        transform=ax.transAxes, fontsize=10, ha='right', style='italic')\n",
    "\n",
    "# Legend outside\n",
    "ax.legend(loc='center left', bbox_to_anchor=(1.01, 0.5), frameon=False)\n",
    "\n",
    "plt.tight_layout()\n",
    "plt.show()"
   ]
  }
 ],
 "metadata": {
  "kernelspec": {
   "display_name": "Python 3 (ipykernel)",
   "language": "python",
   "name": "python3"
  },
  "language_info": {
   "codemirror_mode": {
    "name": "ipython",
    "version": 3
   },
   "file_extension": ".py",
   "mimetype": "text/x-python",
   "name": "python",
   "nbconvert_exporter": "python",
   "pygments_lexer": "ipython3",
   "version": "3.12.8"
  }
 },
 "nbformat": 4,
 "nbformat_minor": 5
}
